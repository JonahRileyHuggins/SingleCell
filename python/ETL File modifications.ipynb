{
 "cells": [
  {
   "cell_type": "markdown",
   "id": "f9fa88ba",
   "metadata": {},
   "source": [
    "# ETL: Renaming SPARCED \n",
    "\n",
    "1. Define Species Regex case\n",
    "    a. if 1 param; 'k\\D*\\d*'\n",
    "    b. if >1 param; 'k\\D*\\d*'+'_'+str(paramNum)\n",
    "\n",
    "2. Make new_param_names using reactionId:\n",
    "    a. param_name = \"k\"+str(reactionId)[1:]+'_'+str(param_Num)\n",
    "\n",
    "3. rewrite formula with new name. \n",
    "    a. formula = formula with new name replacing old\n"
   ]
  },
  {
   "cell_type": "code",
   "execution_count": 1,
   "id": "5d0738c0",
   "metadata": {},
   "outputs": [],
   "source": [
    "import os\n",
    "import re\n",
    "import pandas as pd\n",
    "\n",
    "ratelaws_df = pd.read_csv('../data/Ratelaws_old.tsv', sep='\\t', header=0, index_col=0)"
   ]
  },
  {
   "cell_type": "code",
   "execution_count": 2,
   "id": "d7ffbd62",
   "metadata": {},
   "outputs": [],
   "source": [
    "for reactionId, row in ratelaws_df.iterrows():\n",
    "    j = 1\n",
    "    paramids = [f'parameter{i}' for i in range(1, 9)]\n",
    "\n",
    "    # Only get parameter names that are not NaN\n",
    "    valid_params = [p for p in paramids if pd.notna(row[p])]\n",
    "    \n",
    "    formula = row['ratelaw']\n",
    "    \n",
    "    for _ in valid_params:\n",
    "\n",
    "        if len(valid_params) == 1:\n",
    "            param_regex = r'k\\D*\\d*'\n",
    "        else:\n",
    "            param_regex = r'k\\D*\\d*_' + str(j)\n",
    "        \n",
    "        new_param_name = \"k\" + str(reactionId)[1:] + '_' + str(j)\n",
    "\n",
    "        compiled = re.compile(param_regex)\n",
    "        matches = list(compiled.finditer(formula))\n",
    "        \n",
    "        for ematch in matches:\n",
    "            formula = formula.replace(ematch.group(), new_param_name)\n",
    "\n",
    "        j += 1\n",
    "\n",
    "    ratelaws_df.at[reactionId, 'ratelaw'] = formula\n"
   ]
  },
  {
   "cell_type": "code",
   "execution_count": 3,
   "id": "93343780",
   "metadata": {},
   "outputs": [],
   "source": [
    "ratelaws_df.to_csv('../data/Ratelaws_new.tsv', sep='\\t', index=True)"
   ]
  },
  {
   "cell_type": "code",
   "execution_count": null,
   "id": "26995720",
   "metadata": {},
   "outputs": [],
   "source": []
  }
 ],
 "metadata": {
  "kernelspec": {
   "display_name": "Python 3",
   "language": "python",
   "name": "python3"
  },
  "language_info": {
   "codemirror_mode": {
    "name": "ipython",
    "version": 3
   },
   "file_extension": ".py",
   "mimetype": "text/x-python",
   "name": "python",
   "nbconvert_exporter": "python",
   "pygments_lexer": "ipython3",
   "version": "3.12.3"
  }
 },
 "nbformat": 4,
 "nbformat_minor": 5
}
